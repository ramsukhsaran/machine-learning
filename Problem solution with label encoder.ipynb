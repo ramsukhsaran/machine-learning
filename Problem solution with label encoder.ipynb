{
 "cells": [
  {
   "cell_type": "code",
   "execution_count": 98,
   "metadata": {
    "collapsed": true,
    "deletable": true,
    "editable": true
   },
   "outputs": [],
   "source": [
    "import numpy as np\n",
    "import pandas as pd"
   ]
  },
  {
   "cell_type": "code",
   "execution_count": 99,
   "metadata": {
    "collapsed": true,
    "deletable": true,
    "editable": true
   },
   "outputs": [],
   "source": [
    "df=pd.read_excel(r\"C:\\Users\\Lenovo\\Downloads\\A213070490_15745_18_2019_data.xls\")"
   ]
  },
  {
   "cell_type": "code",
   "execution_count": 100,
   "metadata": {
    "collapsed": false,
    "deletable": true,
    "editable": true
   },
   "outputs": [
    {
     "data": {
      "text/html": [
       "<div>\n",
       "<style>\n",
       "    .dataframe thead tr:only-child th {\n",
       "        text-align: right;\n",
       "    }\n",
       "\n",
       "    .dataframe thead th {\n",
       "        text-align: left;\n",
       "    }\n",
       "\n",
       "    .dataframe tbody tr th {\n",
       "        vertical-align: top;\n",
       "    }\n",
       "</style>\n",
       "<table border=\"1\" class=\"dataframe\">\n",
       "  <thead>\n",
       "    <tr style=\"text-align: right;\">\n",
       "      <th></th>\n",
       "      <th>Feature-1</th>\n",
       "      <th>Feature-2</th>\n",
       "      <th>Feature-3</th>\n",
       "      <th>Feature-4</th>\n",
       "      <th>Class_Label</th>\n",
       "    </tr>\n",
       "  </thead>\n",
       "  <tbody>\n",
       "    <tr>\n",
       "      <th>0</th>\n",
       "      <td>5.1</td>\n",
       "      <td>3.5</td>\n",
       "      <td>1.4</td>\n",
       "      <td>0.2</td>\n",
       "      <td>Class-1</td>\n",
       "    </tr>\n",
       "    <tr>\n",
       "      <th>1</th>\n",
       "      <td>4.9</td>\n",
       "      <td>3.0</td>\n",
       "      <td>1.4</td>\n",
       "      <td>0.2</td>\n",
       "      <td>Class-1</td>\n",
       "    </tr>\n",
       "    <tr>\n",
       "      <th>2</th>\n",
       "      <td>4.7</td>\n",
       "      <td>3.2</td>\n",
       "      <td>1.3</td>\n",
       "      <td>0.2</td>\n",
       "      <td>Class-1</td>\n",
       "    </tr>\n",
       "    <tr>\n",
       "      <th>3</th>\n",
       "      <td>4.6</td>\n",
       "      <td>3.1</td>\n",
       "      <td>1.5</td>\n",
       "      <td>0.2</td>\n",
       "      <td>Class-1</td>\n",
       "    </tr>\n",
       "    <tr>\n",
       "      <th>4</th>\n",
       "      <td>5.0</td>\n",
       "      <td>3.6</td>\n",
       "      <td>1.4</td>\n",
       "      <td>0.2</td>\n",
       "      <td>Class-1</td>\n",
       "    </tr>\n",
       "  </tbody>\n",
       "</table>\n",
       "</div>"
      ],
      "text/plain": [
       "   Feature-1  Feature-2  Feature-3  Feature-4 Class_Label\n",
       "0        5.1        3.5        1.4        0.2     Class-1\n",
       "1        4.9        3.0        1.4        0.2     Class-1\n",
       "2        4.7        3.2        1.3        0.2     Class-1\n",
       "3        4.6        3.1        1.5        0.2     Class-1\n",
       "4        5.0        3.6        1.4        0.2     Class-1"
      ]
     },
     "execution_count": 100,
     "metadata": {},
     "output_type": "execute_result"
    }
   ],
   "source": [
    "df.head()"
   ]
  },
  {
   "cell_type": "code",
   "execution_count": 101,
   "metadata": {
    "collapsed": false,
    "deletable": true,
    "editable": true
   },
   "outputs": [
    {
     "data": {
      "text/plain": [
       "150"
      ]
     },
     "execution_count": 101,
     "metadata": {},
     "output_type": "execute_result"
    }
   ],
   "source": [
    "df.shape[0]  # rows"
   ]
  },
  {
   "cell_type": "code",
   "execution_count": 102,
   "metadata": {
    "collapsed": false,
    "deletable": true,
    "editable": true
   },
   "outputs": [
    {
     "data": {
      "text/plain": [
       "5"
      ]
     },
     "execution_count": 102,
     "metadata": {},
     "output_type": "execute_result"
    }
   ],
   "source": [
    "df.shape[1]# columns"
   ]
  },
  {
   "cell_type": "code",
   "execution_count": 103,
   "metadata": {
    "collapsed": false,
    "deletable": true,
    "editable": true
   },
   "outputs": [
    {
     "data": {
      "text/plain": [
       "3"
      ]
     },
     "execution_count": 103,
     "metadata": {},
     "output_type": "execute_result"
    }
   ],
   "source": [
    "df['Class_Label'].nunique()     # no of unique class"
   ]
  },
  {
   "cell_type": "code",
   "execution_count": 104,
   "metadata": {
    "collapsed": false,
    "deletable": true,
    "editable": true
   },
   "outputs": [
    {
     "data": {
      "text/plain": [
       "Class-2    50\n",
       "Class-3    50\n",
       "Class-1    50\n",
       "Name: Class_Label, dtype: int64"
      ]
     },
     "execution_count": 104,
     "metadata": {},
     "output_type": "execute_result"
    }
   ],
   "source": [
    "df['Class_Label'].value_counts()           # no of elements belongs to each class"
   ]
  },
  {
   "cell_type": "code",
   "execution_count": null,
   "metadata": {
    "collapsed": true,
    "deletable": true,
    "editable": true
   },
   "outputs": [],
   "source": []
  },
  {
   "cell_type": "code",
   "execution_count": 105,
   "metadata": {
    "collapsed": false,
    "deletable": true,
    "editable": true
   },
   "outputs": [
    {
     "data": {
      "text/html": [
       "<div>\n",
       "<style>\n",
       "    .dataframe thead tr:only-child th {\n",
       "        text-align: right;\n",
       "    }\n",
       "\n",
       "    .dataframe thead th {\n",
       "        text-align: left;\n",
       "    }\n",
       "\n",
       "    .dataframe tbody tr th {\n",
       "        vertical-align: top;\n",
       "    }\n",
       "</style>\n",
       "<table border=\"1\" class=\"dataframe\">\n",
       "  <thead>\n",
       "    <tr style=\"text-align: right;\">\n",
       "      <th></th>\n",
       "      <th>Feature-1</th>\n",
       "      <th>Feature-2</th>\n",
       "      <th>Feature-3</th>\n",
       "      <th>Feature-4</th>\n",
       "      <th>Class_Label</th>\n",
       "    </tr>\n",
       "  </thead>\n",
       "  <tbody>\n",
       "    <tr>\n",
       "      <th>0</th>\n",
       "      <td>5.1</td>\n",
       "      <td>3.5</td>\n",
       "      <td>1.4</td>\n",
       "      <td>0.2</td>\n",
       "      <td>Class-1</td>\n",
       "    </tr>\n",
       "    <tr>\n",
       "      <th>1</th>\n",
       "      <td>4.9</td>\n",
       "      <td>3.0</td>\n",
       "      <td>1.4</td>\n",
       "      <td>0.2</td>\n",
       "      <td>Class-1</td>\n",
       "    </tr>\n",
       "    <tr>\n",
       "      <th>2</th>\n",
       "      <td>4.7</td>\n",
       "      <td>3.2</td>\n",
       "      <td>1.3</td>\n",
       "      <td>0.2</td>\n",
       "      <td>Class-1</td>\n",
       "    </tr>\n",
       "    <tr>\n",
       "      <th>3</th>\n",
       "      <td>4.6</td>\n",
       "      <td>3.1</td>\n",
       "      <td>1.5</td>\n",
       "      <td>0.2</td>\n",
       "      <td>Class-1</td>\n",
       "    </tr>\n",
       "    <tr>\n",
       "      <th>4</th>\n",
       "      <td>5.0</td>\n",
       "      <td>3.6</td>\n",
       "      <td>1.4</td>\n",
       "      <td>0.2</td>\n",
       "      <td>Class-1</td>\n",
       "    </tr>\n",
       "  </tbody>\n",
       "</table>\n",
       "</div>"
      ],
      "text/plain": [
       "   Feature-1  Feature-2  Feature-3  Feature-4 Class_Label\n",
       "0        5.1        3.5        1.4        0.2     Class-1\n",
       "1        4.9        3.0        1.4        0.2     Class-1\n",
       "2        4.7        3.2        1.3        0.2     Class-1\n",
       "3        4.6        3.1        1.5        0.2     Class-1\n",
       "4        5.0        3.6        1.4        0.2     Class-1"
      ]
     },
     "execution_count": 105,
     "metadata": {},
     "output_type": "execute_result"
    }
   ],
   "source": [
    "df.head()"
   ]
  },
  {
   "cell_type": "code",
   "execution_count": 106,
   "metadata": {
    "collapsed": false,
    "deletable": true,
    "editable": true
   },
   "outputs": [
    {
     "data": {
      "text/plain": [
       "Feature-1       8\n",
       "Feature-2      13\n",
       "Feature-3       7\n",
       "Feature-4       9\n",
       "Class_Label     0\n",
       "dtype: int64"
      ]
     },
     "execution_count": 106,
     "metadata": {},
     "output_type": "execute_result"
    }
   ],
   "source": [
    "# missing values\n",
    "df.isnull().sum()"
   ]
  },
  {
   "cell_type": "code",
   "execution_count": 107,
   "metadata": {
    "collapsed": false,
    "deletable": true,
    "editable": true
   },
   "outputs": [
    {
     "data": {
      "text/html": [
       "<div>\n",
       "<style>\n",
       "    .dataframe thead tr:only-child th {\n",
       "        text-align: right;\n",
       "    }\n",
       "\n",
       "    .dataframe thead th {\n",
       "        text-align: left;\n",
       "    }\n",
       "\n",
       "    .dataframe tbody tr th {\n",
       "        vertical-align: top;\n",
       "    }\n",
       "</style>\n",
       "<table border=\"1\" class=\"dataframe\">\n",
       "  <thead>\n",
       "    <tr style=\"text-align: right;\">\n",
       "      <th></th>\n",
       "      <th>Feature-1</th>\n",
       "      <th>Feature-2</th>\n",
       "      <th>Feature-3</th>\n",
       "      <th>Feature-4</th>\n",
       "      <th>Class_Label</th>\n",
       "    </tr>\n",
       "  </thead>\n",
       "  <tbody>\n",
       "    <tr>\n",
       "      <th>145</th>\n",
       "      <td>6.7</td>\n",
       "      <td>3.0</td>\n",
       "      <td>5.2</td>\n",
       "      <td>2.3</td>\n",
       "      <td>Class-3</td>\n",
       "    </tr>\n",
       "    <tr>\n",
       "      <th>146</th>\n",
       "      <td>6.3</td>\n",
       "      <td>2.5</td>\n",
       "      <td>5.0</td>\n",
       "      <td>1.9</td>\n",
       "      <td>Class-3</td>\n",
       "    </tr>\n",
       "    <tr>\n",
       "      <th>147</th>\n",
       "      <td>6.5</td>\n",
       "      <td>3.0</td>\n",
       "      <td>5.2</td>\n",
       "      <td>2.0</td>\n",
       "      <td>Class-3</td>\n",
       "    </tr>\n",
       "    <tr>\n",
       "      <th>148</th>\n",
       "      <td>6.2</td>\n",
       "      <td>3.4</td>\n",
       "      <td>5.4</td>\n",
       "      <td>2.3</td>\n",
       "      <td>Class-3</td>\n",
       "    </tr>\n",
       "    <tr>\n",
       "      <th>149</th>\n",
       "      <td>5.9</td>\n",
       "      <td>3.0</td>\n",
       "      <td>5.1</td>\n",
       "      <td>1.8</td>\n",
       "      <td>Class-3</td>\n",
       "    </tr>\n",
       "  </tbody>\n",
       "</table>\n",
       "</div>"
      ],
      "text/plain": [
       "     Feature-1  Feature-2  Feature-3  Feature-4 Class_Label\n",
       "145        6.7        3.0        5.2        2.3     Class-3\n",
       "146        6.3        2.5        5.0        1.9     Class-3\n",
       "147        6.5        3.0        5.2        2.0     Class-3\n",
       "148        6.2        3.4        5.4        2.3     Class-3\n",
       "149        5.9        3.0        5.1        1.8     Class-3"
      ]
     },
     "execution_count": 107,
     "metadata": {},
     "output_type": "execute_result"
    }
   ],
   "source": [
    "df.tail()"
   ]
  },
  {
   "cell_type": "code",
   "execution_count": 108,
   "metadata": {
    "collapsed": false,
    "deletable": true,
    "editable": true
   },
   "outputs": [
    {
     "name": "stdout",
     "output_type": "stream",
     "text": [
      "(121, 5)\n"
     ]
    }
   ],
   "source": [
    "#      d=df.dropna()     to # drop missing values this is not good approch\n",
    "print(d.shape)   # no of records after dropna"
   ]
  },
  {
   "cell_type": "code",
   "execution_count": 109,
   "metadata": {
    "collapsed": false,
    "deletable": true,
    "editable": true
   },
   "outputs": [
    {
     "data": {
      "text/plain": [
       "LabelEncoder()"
      ]
     },
     "execution_count": 109,
     "metadata": {},
     "output_type": "execute_result"
    }
   ],
   "source": [
    "# label encoder\n",
    "from sklearn import preprocessing\n",
    "le=preprocessing.LabelEncoder()\n",
    "le.fit(df['Class_Label'])\n"
   ]
  },
  {
   "cell_type": "code",
   "execution_count": 110,
   "metadata": {
    "collapsed": false,
    "deletable": true,
    "editable": true
   },
   "outputs": [
    {
     "data": {
      "text/plain": [
       "['Class-1', 'Class-2', 'Class-3']"
      ]
     },
     "execution_count": 110,
     "metadata": {},
     "output_type": "execute_result"
    }
   ],
   "source": [
    "list(le.classes_)"
   ]
  },
  {
   "cell_type": "code",
   "execution_count": 111,
   "metadata": {
    "collapsed": false
   },
   "outputs": [],
   "source": [
    "df['Class_Label']=le.transform(df['Class_Label'])"
   ]
  },
  {
   "cell_type": "code",
   "execution_count": 112,
   "metadata": {
    "collapsed": false
   },
   "outputs": [
    {
     "data": {
      "text/html": [
       "<div>\n",
       "<style>\n",
       "    .dataframe thead tr:only-child th {\n",
       "        text-align: right;\n",
       "    }\n",
       "\n",
       "    .dataframe thead th {\n",
       "        text-align: left;\n",
       "    }\n",
       "\n",
       "    .dataframe tbody tr th {\n",
       "        vertical-align: top;\n",
       "    }\n",
       "</style>\n",
       "<table border=\"1\" class=\"dataframe\">\n",
       "  <thead>\n",
       "    <tr style=\"text-align: right;\">\n",
       "      <th></th>\n",
       "      <th>Feature-1</th>\n",
       "      <th>Feature-2</th>\n",
       "      <th>Feature-3</th>\n",
       "      <th>Feature-4</th>\n",
       "      <th>Class_Label</th>\n",
       "    </tr>\n",
       "  </thead>\n",
       "  <tbody>\n",
       "    <tr>\n",
       "      <th>0</th>\n",
       "      <td>5.1</td>\n",
       "      <td>3.5</td>\n",
       "      <td>1.4</td>\n",
       "      <td>0.2</td>\n",
       "      <td>0</td>\n",
       "    </tr>\n",
       "    <tr>\n",
       "      <th>1</th>\n",
       "      <td>4.9</td>\n",
       "      <td>3.0</td>\n",
       "      <td>1.4</td>\n",
       "      <td>0.2</td>\n",
       "      <td>0</td>\n",
       "    </tr>\n",
       "    <tr>\n",
       "      <th>2</th>\n",
       "      <td>4.7</td>\n",
       "      <td>3.2</td>\n",
       "      <td>1.3</td>\n",
       "      <td>0.2</td>\n",
       "      <td>0</td>\n",
       "    </tr>\n",
       "    <tr>\n",
       "      <th>3</th>\n",
       "      <td>4.6</td>\n",
       "      <td>3.1</td>\n",
       "      <td>1.5</td>\n",
       "      <td>0.2</td>\n",
       "      <td>0</td>\n",
       "    </tr>\n",
       "    <tr>\n",
       "      <th>4</th>\n",
       "      <td>5.0</td>\n",
       "      <td>3.6</td>\n",
       "      <td>1.4</td>\n",
       "      <td>0.2</td>\n",
       "      <td>0</td>\n",
       "    </tr>\n",
       "  </tbody>\n",
       "</table>\n",
       "</div>"
      ],
      "text/plain": [
       "   Feature-1  Feature-2  Feature-3  Feature-4  Class_Label\n",
       "0        5.1        3.5        1.4        0.2            0\n",
       "1        4.9        3.0        1.4        0.2            0\n",
       "2        4.7        3.2        1.3        0.2            0\n",
       "3        4.6        3.1        1.5        0.2            0\n",
       "4        5.0        3.6        1.4        0.2            0"
      ]
     },
     "execution_count": 112,
     "metadata": {},
     "output_type": "execute_result"
    }
   ],
   "source": [
    "df.head()"
   ]
  },
  {
   "cell_type": "code",
   "execution_count": 123,
   "metadata": {
    "collapsed": false,
    "deletable": true,
    "editable": true
   },
   "outputs": [
    {
     "data": {
      "text/plain": [
       "array([[ 5.1       ,  3.5       ,  1.4       ,  0.2       ,  0.        ],\n",
       "       [ 4.9       ,  3.        ,  1.4       ,  0.2       ,  0.        ],\n",
       "       [ 4.7       ,  3.2       ,  1.3       ,  0.2       ,  0.        ],\n",
       "       [ 4.6       ,  3.1       ,  1.5       ,  0.2       ,  0.        ],\n",
       "       [ 5.        ,  3.6       ,  1.4       ,  0.2       ,  0.        ],\n",
       "       [ 5.4       ,  3.9       ,  1.7       ,  0.4       ,  0.        ],\n",
       "       [ 4.6       ,  3.4       ,  1.4       ,  0.3       ,  0.        ],\n",
       "       [ 5.        ,  3.4       ,  1.5       ,  0.2       ,  0.        ],\n",
       "       [ 4.4       ,  2.9       ,  1.4       ,  0.2       ,  0.        ],\n",
       "       [ 4.9       ,  3.1       ,  1.5       ,  0.1       ,  0.        ],\n",
       "       [ 5.4       ,  3.7       ,  1.5       ,  0.2       ,  0.        ],\n",
       "       [ 4.8       ,  3.4       ,  1.6       ,  0.2       ,  0.        ],\n",
       "       [ 4.8       ,  3.        ,  1.4       ,  0.1       ,  0.        ],\n",
       "       [ 4.3       ,  3.        ,  1.1       ,  0.1       ,  0.        ],\n",
       "       [ 5.8       ,  4.        ,  1.2       ,  0.2       ,  0.        ],\n",
       "       [ 5.7       ,  4.4       ,  1.5       ,  0.4       ,  0.        ],\n",
       "       [ 5.4       ,  3.9       ,  1.3       ,  0.4       ,  0.        ],\n",
       "       [ 5.1       ,  3.5       ,  1.4       ,  0.3       ,  0.        ],\n",
       "       [ 5.7       ,  3.8       ,  1.7       ,  0.3       ,  0.        ],\n",
       "       [ 5.1       ,  3.8       ,  1.5       ,  0.3       ,  0.        ],\n",
       "       [ 5.4       ,  3.4       ,  1.7       ,  0.2       ,  0.        ],\n",
       "       [ 5.1       ,  3.7       ,  1.5       ,  0.4       ,  0.        ],\n",
       "       [ 4.6       ,  3.6       ,  1.        ,  0.2       ,  0.        ],\n",
       "       [ 5.1       ,  3.3       ,  1.7       ,  0.5       ,  0.        ],\n",
       "       [ 4.8       ,  3.4       ,  1.9       ,  0.2       ,  0.        ],\n",
       "       [ 5.        ,  3.        ,  1.6       ,  0.2       ,  0.        ],\n",
       "       [ 5.        ,  3.4       ,  1.6       ,  0.4       ,  0.        ],\n",
       "       [ 5.2       ,  3.5       ,  1.5       ,  0.2       ,  0.        ],\n",
       "       [ 5.2       ,  3.4       ,  1.4       ,  0.2       ,  0.        ],\n",
       "       [ 4.7       ,  3.2       ,  1.6       ,  0.2       ,  0.        ],\n",
       "       [ 5.85985915,  3.06715328,  3.78881119,  0.2       ,  0.        ],\n",
       "       [ 5.85985915,  3.06715328,  3.78881119,  0.4       ,  0.        ],\n",
       "       [ 5.2       ,  4.1       ,  1.5       ,  0.1       ,  0.        ],\n",
       "       [ 5.5       ,  4.2       ,  1.4       ,  0.2       ,  0.        ],\n",
       "       [ 4.9       ,  3.1       ,  1.5       ,  0.1       ,  0.        ],\n",
       "       [ 5.        ,  3.2       ,  1.2       ,  0.2       ,  0.        ],\n",
       "       [ 5.5       ,  3.5       ,  1.3       ,  0.2       ,  0.        ],\n",
       "       [ 4.9       ,  3.1       ,  1.5       ,  0.1       ,  0.        ],\n",
       "       [ 4.4       ,  3.        ,  1.3       ,  0.2       ,  0.        ],\n",
       "       [ 5.1       ,  3.06715328,  3.78881119,  1.19432624,  0.        ],\n",
       "       [ 5.        ,  3.06715328,  3.78881119,  1.19432624,  0.        ],\n",
       "       [ 4.5       ,  2.3       ,  1.3       ,  0.3       ,  0.        ],\n",
       "       [ 4.4       ,  3.2       ,  1.3       ,  0.2       ,  0.        ],\n",
       "       [ 5.        ,  3.5       ,  1.6       ,  0.6       ,  0.        ],\n",
       "       [ 5.1       ,  3.8       ,  1.9       ,  0.4       ,  0.        ],\n",
       "       [ 4.8       ,  3.        ,  1.4       ,  0.3       ,  0.        ],\n",
       "       [ 5.1       ,  3.8       ,  1.6       ,  0.2       ,  0.        ],\n",
       "       [ 4.6       ,  3.2       ,  1.4       ,  0.2       ,  0.        ],\n",
       "       [ 5.3       ,  3.7       ,  1.5       ,  0.2       ,  0.        ],\n",
       "       [ 5.        ,  3.3       ,  1.4       ,  0.2       ,  0.        ],\n",
       "       [ 7.        ,  3.2       ,  4.7       ,  1.4       ,  1.        ],\n",
       "       [ 6.4       ,  3.2       ,  4.5       ,  1.5       ,  1.        ],\n",
       "       [ 6.9       ,  3.1       ,  4.9       ,  1.5       ,  1.        ],\n",
       "       [ 5.5       ,  2.3       ,  4.        ,  1.3       ,  1.        ],\n",
       "       [ 6.5       ,  2.8       ,  4.6       ,  1.5       ,  1.        ],\n",
       "       [ 5.85985915,  2.8       ,  4.5       ,  1.3       ,  1.        ],\n",
       "       [ 5.85985915,  3.3       ,  4.7       ,  1.6       ,  1.        ],\n",
       "       [ 5.85985915,  2.4       ,  3.3       ,  1.        ,  1.        ],\n",
       "       [ 6.6       ,  2.9       ,  4.6       ,  1.3       ,  1.        ],\n",
       "       [ 5.2       ,  2.7       ,  3.9       ,  1.4       ,  1.        ],\n",
       "       [ 5.        ,  2.        ,  3.5       ,  1.        ,  1.        ],\n",
       "       [ 5.9       ,  3.        ,  4.2       ,  1.5       ,  1.        ],\n",
       "       [ 6.        ,  2.2       ,  4.        ,  1.        ,  1.        ],\n",
       "       [ 6.1       ,  2.9       ,  4.7       ,  1.4       ,  1.        ],\n",
       "       [ 5.6       ,  2.9       ,  3.6       ,  1.3       ,  1.        ],\n",
       "       [ 6.7       ,  3.1       ,  4.4       ,  1.4       ,  1.        ],\n",
       "       [ 5.6       ,  3.        ,  4.5       ,  1.5       ,  1.        ],\n",
       "       [ 5.8       ,  2.7       ,  4.1       ,  1.        ,  1.        ],\n",
       "       [ 6.2       ,  2.2       ,  4.5       ,  1.19432624,  1.        ],\n",
       "       [ 5.6       ,  2.5       ,  3.9       ,  1.19432624,  1.        ],\n",
       "       [ 5.9       ,  3.2       ,  4.8       ,  1.19432624,  1.        ],\n",
       "       [ 6.1       ,  2.8       ,  4.        ,  1.19432624,  1.        ],\n",
       "       [ 6.3       ,  2.5       ,  4.9       ,  1.5       ,  1.        ],\n",
       "       [ 6.1       ,  2.8       ,  4.7       ,  1.2       ,  1.        ],\n",
       "       [ 6.4       ,  2.9       ,  4.3       ,  1.3       ,  1.        ],\n",
       "       [ 6.6       ,  3.        ,  4.4       ,  1.4       ,  1.        ],\n",
       "       [ 6.8       ,  2.8       ,  4.8       ,  1.4       ,  1.        ],\n",
       "       [ 6.7       ,  3.        ,  5.        ,  1.7       ,  1.        ],\n",
       "       [ 6.        ,  2.9       ,  4.5       ,  1.5       ,  1.        ],\n",
       "       [ 5.7       ,  2.6       ,  3.5       ,  1.        ,  1.        ],\n",
       "       [ 5.5       ,  2.4       ,  3.8       ,  1.1       ,  1.        ],\n",
       "       [ 5.85985915,  2.4       ,  3.7       ,  1.        ,  1.        ],\n",
       "       [ 5.85985915,  2.7       ,  3.9       ,  1.2       ,  1.        ],\n",
       "       [ 5.85985915,  2.7       ,  5.1       ,  1.6       ,  1.        ],\n",
       "       [ 5.4       ,  3.        ,  4.5       ,  1.5       ,  1.        ],\n",
       "       [ 6.        ,  3.4       ,  4.5       ,  1.6       ,  1.        ],\n",
       "       [ 6.7       ,  3.1       ,  4.7       ,  1.5       ,  1.        ],\n",
       "       [ 6.3       ,  2.3       ,  4.4       ,  1.3       ,  1.        ],\n",
       "       [ 5.6       ,  3.        ,  4.1       ,  1.3       ,  1.        ],\n",
       "       [ 5.5       ,  2.5       ,  4.        ,  1.3       ,  1.        ],\n",
       "       [ 5.5       ,  3.06715328,  4.4       ,  1.2       ,  1.        ],\n",
       "       [ 6.1       ,  3.06715328,  4.6       ,  1.4       ,  1.        ],\n",
       "       [ 5.8       ,  3.06715328,  4.        ,  1.2       ,  1.        ],\n",
       "       [ 5.        ,  3.06715328,  3.3       ,  1.        ,  1.        ],\n",
       "       [ 5.6       ,  3.06715328,  4.2       ,  1.3       ,  1.        ],\n",
       "       [ 5.7       ,  3.06715328,  4.2       ,  1.2       ,  1.        ],\n",
       "       [ 5.7       ,  3.06715328,  4.2       ,  1.3       ,  1.        ],\n",
       "       [ 6.2       ,  3.06715328,  4.3       ,  1.3       ,  1.        ],\n",
       "       [ 5.1       ,  3.06715328,  3.        ,  1.1       ,  1.        ],\n",
       "       [ 5.7       ,  2.8       ,  4.1       ,  1.3       ,  1.        ],\n",
       "       [ 6.3       ,  3.3       ,  6.        ,  2.5       ,  2.        ],\n",
       "       [ 5.8       ,  2.7       ,  5.1       ,  1.9       ,  2.        ],\n",
       "       [ 7.1       ,  3.        ,  5.9       ,  2.1       ,  2.        ],\n",
       "       [ 6.3       ,  2.9       ,  5.6       ,  1.8       ,  2.        ],\n",
       "       [ 6.5       ,  3.        ,  5.8       ,  2.2       ,  2.        ],\n",
       "       [ 7.6       ,  3.        ,  6.6       ,  2.1       ,  2.        ],\n",
       "       [ 4.9       ,  2.5       ,  4.5       ,  1.7       ,  2.        ],\n",
       "       [ 7.3       ,  2.9       ,  6.3       ,  1.8       ,  2.        ],\n",
       "       [ 6.7       ,  2.5       ,  5.8       ,  1.8       ,  2.        ],\n",
       "       [ 7.2       ,  3.6       ,  6.1       ,  2.5       ,  2.        ],\n",
       "       [ 6.5       ,  3.2       ,  5.1       ,  2.        ,  2.        ],\n",
       "       [ 6.4       ,  2.7       ,  5.3       ,  1.9       ,  2.        ],\n",
       "       [ 6.8       ,  3.        ,  5.5       ,  2.1       ,  2.        ],\n",
       "       [ 5.7       ,  2.5       ,  5.        ,  2.        ,  2.        ],\n",
       "       [ 5.8       ,  2.8       ,  5.1       ,  2.4       ,  2.        ],\n",
       "       [ 6.4       ,  3.2       ,  5.3       ,  2.3       ,  2.        ],\n",
       "       [ 6.5       ,  3.        ,  5.5       ,  1.8       ,  2.        ],\n",
       "       [ 7.7       ,  3.8       ,  6.7       ,  2.2       ,  2.        ],\n",
       "       [ 7.7       ,  2.6       ,  6.9       ,  2.3       ,  2.        ],\n",
       "       [ 6.        ,  2.2       ,  5.        ,  1.5       ,  2.        ],\n",
       "       [ 6.9       ,  3.2       ,  5.7       ,  2.3       ,  2.        ],\n",
       "       [ 5.6       ,  2.8       ,  4.9       ,  2.        ,  2.        ],\n",
       "       [ 7.7       ,  2.8       ,  6.7       ,  2.        ,  2.        ],\n",
       "       [ 6.3       ,  2.7       ,  4.9       ,  1.8       ,  2.        ],\n",
       "       [ 6.7       ,  3.3       ,  5.7       ,  2.1       ,  2.        ],\n",
       "       [ 7.2       ,  3.2       ,  6.        ,  1.8       ,  2.        ],\n",
       "       [ 6.2       ,  2.8       ,  4.8       ,  1.8       ,  2.        ],\n",
       "       [ 6.1       ,  3.        ,  4.9       ,  1.8       ,  2.        ],\n",
       "       [ 6.4       ,  2.8       ,  5.6       ,  2.1       ,  2.        ],\n",
       "       [ 7.2       ,  3.        ,  5.8       ,  1.6       ,  2.        ],\n",
       "       [ 7.4       ,  2.8       ,  6.1       ,  1.9       ,  2.        ],\n",
       "       [ 7.9       ,  3.8       ,  6.4       ,  2.        ,  2.        ],\n",
       "       [ 6.4       ,  2.8       ,  5.6       ,  2.2       ,  2.        ],\n",
       "       [ 6.3       ,  2.8       ,  5.1       ,  1.19432624,  2.        ],\n",
       "       [ 6.1       ,  2.6       ,  5.6       ,  1.19432624,  2.        ],\n",
       "       [ 7.7       ,  3.        ,  6.1       ,  1.19432624,  2.        ],\n",
       "       [ 6.3       ,  3.4       ,  5.6       ,  2.4       ,  2.        ],\n",
       "       [ 6.4       ,  3.1       ,  5.5       ,  1.8       ,  2.        ],\n",
       "       [ 6.        ,  3.        ,  4.8       ,  1.8       ,  2.        ],\n",
       "       [ 6.9       ,  3.1       ,  5.4       ,  2.1       ,  2.        ],\n",
       "       [ 6.7       ,  3.1       ,  5.6       ,  2.4       ,  2.        ],\n",
       "       [ 6.9       ,  3.1       ,  3.78881119,  2.3       ,  2.        ],\n",
       "       [ 5.8       ,  2.7       ,  3.78881119,  1.9       ,  2.        ],\n",
       "       [ 6.8       ,  3.2       ,  3.78881119,  2.3       ,  2.        ],\n",
       "       [ 6.7       ,  3.3       ,  5.7       ,  2.5       ,  2.        ],\n",
       "       [ 6.7       ,  3.        ,  5.2       ,  2.3       ,  2.        ],\n",
       "       [ 6.3       ,  2.5       ,  5.        ,  1.9       ,  2.        ],\n",
       "       [ 6.5       ,  3.        ,  5.2       ,  2.        ,  2.        ],\n",
       "       [ 6.2       ,  3.4       ,  5.4       ,  2.3       ,  2.        ],\n",
       "       [ 5.9       ,  3.        ,  5.1       ,  1.8       ,  2.        ]])"
      ]
     },
     "execution_count": 123,
     "metadata": {},
     "output_type": "execute_result"
    }
   ],
   "source": [
    "# imputer method for missing values\n",
    "from sklearn.preprocessing import Imputer\n",
    "imf=Imputer(missing_values=np.nan,strategy='mean',axis=0)\n",
    "imp=imf.fit(df)\n",
    "imputed_data=imp.transform(df.values)\n",
    "imputed_data"
   ]
  },
  {
   "cell_type": "code",
   "execution_count": 124,
   "metadata": {
    "collapsed": false,
    "deletable": true,
    "editable": true
   },
   "outputs": [
    {
     "data": {
      "text/plain": [
       "Feature-1      float64\n",
       "Feature-2      float64\n",
       "Feature-3      float64\n",
       "Feature-4      float64\n",
       "Class_Label      int64\n",
       "dtype: object"
      ]
     },
     "execution_count": 124,
     "metadata": {},
     "output_type": "execute_result"
    }
   ],
   "source": [
    "  #df.fillna(df.mean(),inplace=True)\n",
    "df.dtypes"
   ]
  },
  {
   "cell_type": "code",
   "execution_count": 125,
   "metadata": {
    "collapsed": false,
    "deletable": true,
    "editable": true
   },
   "outputs": [],
   "source": [
    "df.head()\n",
    "x=imputed_data[:,:4]\n",
    "y=imputed_data[:,4]"
   ]
  },
  {
   "cell_type": "code",
   "execution_count": 126,
   "metadata": {
    "collapsed": false,
    "deletable": true,
    "editable": true
   },
   "outputs": [
    {
     "name": "stdout",
     "output_type": "stream",
     "text": [
      "(105, 4)\n",
      "(45,)\n"
     ]
    }
   ],
   "source": [
    "from sklearn.model_selection import train_test_split\n",
    "x_train,x_test,y_train,y_test=train_test_split(x,y,test_size=0.3)\n",
    "print(x_train.shape)\n",
    "print(y_test.shape)\n",
    "\n",
    "\n",
    "\n",
    "\n",
    "\n",
    "\n"
   ]
  },
  {
   "cell_type": "code",
   "execution_count": 127,
   "metadata": {
    "collapsed": false,
    "deletable": true,
    "editable": true
   },
   "outputs": [],
   "source": [
    "from sklearn.preprocessing import StandardScaler\n",
    "sc=StandardScaler()\n",
    "x_train_std=sc.fit_transform(x_train)\n",
    "x_test_std=sc.fit_transform(x_test)\n"
   ]
  },
  {
   "cell_type": "code",
   "execution_count": 128,
   "metadata": {
    "collapsed": true,
    "deletable": true,
    "editable": true
   },
   "outputs": [],
   "source": [
    "from sklearn.preprocessing import MinMaxScaler\n",
    "mn=MinMaxScaler()\n",
    "x_train_nom=mn.fit_transform(x_train)\n",
    "x_test_nom=mn.fit_transform(x_test)\n"
   ]
  },
  {
   "cell_type": "code",
   "execution_count": 129,
   "metadata": {
    "collapsed": false,
    "deletable": true,
    "editable": true
   },
   "outputs": [
    {
     "name": "stdout",
     "output_type": "stream",
     "text": [
      "misclassified samples: 4\n",
      "accuracy:0.911111\n"
     ]
    }
   ],
   "source": [
    "# apply logistic regression\n",
    "from sklearn.linear_model import LogisticRegression\n",
    "lr=LogisticRegression()\n",
    "lr.fit(x_train_std,y_train)\n",
    "y_pred=lr.predict(x_test_std)\n",
    "\n",
    "print('misclassified samples: %d'%(y_test!=y_pred).sum())\n",
    "\n",
    "from sklearn.metrics import accuracy_score\n",
    "\n",
    "\n",
    "\n",
    "print(\"accuracy:%f\"%accuracy_score(y_test,y_pred))\n"
   ]
  },
  {
   "cell_type": "code",
   "execution_count": 130,
   "metadata": {
    "collapsed": false,
    "deletable": true,
    "editable": true
   },
   "outputs": [
    {
     "name": "stdout",
     "output_type": "stream",
     "text": [
      "misclassified samples: 4\n",
      "accuracy:0.911111\n"
     ]
    }
   ],
   "source": [
    "# apply logistic regression with penaality\n",
    "from sklearn.linear_model import LogisticRegression\n",
    "lr=LogisticRegression(C=1,random_state=0,penalty='l2')\n",
    "lr.fit(x_train_std,y_train)\n",
    "y_pred=lr.predict(x_test_std)\n",
    "\n",
    "print('misclassified samples: %d'%(y_test!=y_pred).sum())\n",
    "\n",
    "from sklearn.metrics import accuracy_score\n",
    "\n",
    "\n",
    "\n",
    "print(\"accuracy:%f\"%accuracy_score(y_test,y_pred))\n"
   ]
  },
  {
   "cell_type": "code",
   "execution_count": 131,
   "metadata": {
    "collapsed": false,
    "deletable": true,
    "editable": true
   },
   "outputs": [
    {
     "name": "stdout",
     "output_type": "stream",
     "text": [
      "[[15  0  0]\n",
      " [ 1 12  1]\n",
      " [ 0  2 14]]\n"
     ]
    }
   ],
   "source": [
    " # confusion matrix\n",
    "from sklearn.metrics import confusion_matrix\n",
    "cmat=confusion_matrix(y_pred,y_test)\n",
    "print(cmat)"
   ]
  },
  {
   "cell_type": "code",
   "execution_count": 132,
   "metadata": {
    "collapsed": false,
    "deletable": true,
    "editable": true
   },
   "outputs": [
    {
     "name": "stdout",
     "output_type": "stream",
     "text": [
      "             precision    recall  f1-score   support\n",
      "\n",
      "        0.0       0.94      1.00      0.97        15\n",
      "        1.0       0.86      0.86      0.86        14\n",
      "        2.0       0.93      0.88      0.90        16\n",
      "\n",
      "avg / total       0.91      0.91      0.91        45\n",
      "\n"
     ]
    }
   ],
   "source": [
    "from sklearn.metrics import classification_report       # classfication reorts\n",
    "print(classification_report(y_pred,y_test))"
   ]
  },
  {
   "cell_type": "code",
   "execution_count": null,
   "metadata": {
    "collapsed": true,
    "deletable": true,
    "editable": true
   },
   "outputs": [],
   "source": []
  },
  {
   "cell_type": "code",
   "execution_count": null,
   "metadata": {
    "collapsed": true
   },
   "outputs": [],
   "source": []
  }
 ],
 "metadata": {
  "kernelspec": {
   "display_name": "Python 3",
   "language": "python",
   "name": "python3"
  },
  "language_info": {
   "codemirror_mode": {
    "name": "ipython",
    "version": 3
   },
   "file_extension": ".py",
   "mimetype": "text/x-python",
   "name": "python",
   "nbconvert_exporter": "python",
   "pygments_lexer": "ipython3",
   "version": "3.5.2"
  }
 },
 "nbformat": 4,
 "nbformat_minor": 2
}
